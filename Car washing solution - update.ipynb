{
 "cells": [
  {
   "cell_type": "code",
   "execution_count": 6,
   "metadata": {},
   "outputs": [],
   "source": [
    "# Once you get a problem to simulate and define steps followed, you first identify the variables you will need in your simulation\n",
    "# decide which variables have constant values and those that will need to be generated randomly\n",
    "# identify the processes that need to be carried out in your environment\n",
    "# import necessary variables for your simulation\n",
    "\n",
    "# create and initialize the environment\n",
    "# create functions for your defined processes"
   ]
  },
  {
   "cell_type": "code",
   "execution_count": null,
   "metadata": {},
   "outputs": [],
   "source": [
    "import simpy\n",
    "import random\n",
    "\n",
    "RANDOM_SEED = 42\n",
    "NUM_MACHINES = 2  # 2 washing machines in the carwash\n",
    "WASHTIME = 5      # Minutes it takes to clean a car\n",
    "T_INTER = 7       # Create a car every ~7 minutes\n",
    "SIM_TIME = 20     # Simulation time in minutes"
   ]
  },
  {
   "cell_type": "code",
   "execution_count": 7,
   "metadata": {},
   "outputs": [],
   "source": [
    "class Carwash(object):\n",
    "    \"\"\"A carwash has a limited number of machines (``NUM_MACHINES``) to\n",
    "    clean cars in parallel.\n",
    "\n",
    "    Cars have to request one of the machines. When they got one, they\n",
    "    can start the washing processes and wait for it to finish (which\n",
    "    takes ``washtime`` minutes).\n",
    "\n",
    "    \"\"\"\n",
    "    def __init__(self, env, num_machines, washtime):\n",
    "        self.env = env\n",
    "        self.machine = simpy.Resource(env, num_machines)\n",
    "        self.washtime = washtime # the washtime is a defined number of minutes (5 ,minutes)\n",
    "\n",
    "        # define a function for the washing process\n",
    "    def wash(self, car):\n",
    "        \"\"\"The washing processes. It takes a ``car`` processes and tries\n",
    "        to clean it.\"\"\"\n",
    "        yield self.env.timeout(WASHTIME) # wash a car after every 5 minutes\n",
    "        # a breakdown of the execution of this code below which gives a random precision of the car washing \n",
    "        # \"%d%%\" % (random.randint(50,90)) - random percentage between 50 and 90\n",
    "        # \"%s's\" (car) - the values obtained here are from the variable car\n",
    "        print(\"Carwash removed %d%% of %s's dirt.\" % \n",
    "              (random.randint(50, 99), car))"
   ]
  },
  {
   "cell_type": "code",
   "execution_count": 8,
   "metadata": {},
   "outputs": [],
   "source": [
    "def car(env, name, cw):\n",
    "    \"\"\"The car process (each car has a ``name``) arrives at the carwash\n",
    "    (``cw``) and requests a cleaning machine.\n",
    "\n",
    "    It then starts the washing process, waits for it to finish and\n",
    "    leaves to never come back ...\n",
    "\n",
    "    \"\"\"\n",
    "    # %.2f - 2 significant figures\n",
    "    print('%s arrives at the carwash at %.2f.' % (name, env.now)) # first car arrives at car wash\n",
    "    with cw.machine.request() as request: # a car named 'name' requests for a machine and gets whichever is available, and after it's washed, the machine is declared available again \n",
    "        yield request\n",
    "\n",
    "        print('%s enters the carwash at %.2f.' % (name, env.now)) # first car enters the machine \n",
    "        yield env.process(cw.wash(name)) # the washing process is executed for this particular car called 'name'\n",
    "\n",
    "        print('%s leaves the carwash at %.2f.' % (name, env.now)) # print out the name of car and time when the car completed the washing process"
   ]
  },
  {
   "cell_type": "code",
   "execution_count": 9,
   "metadata": {},
   "outputs": [],
   "source": [
    "def setup(env, num_machines, washtime, t_inter):\n",
    "    \"\"\"Create a carwash, a number of initial cars and keep creating cars\n",
    "    approx. every ``t_inter`` minutes.\"\"\"\n",
    "    # Create an instance of the carwash\n",
    "    carwash = Carwash(env, num_machines, washtime)\n",
    "\n",
    "    # Create 4 initial cars that were there when the car wash got opened\n",
    "    for i in range(4):\n",
    "        env.process(car(env, 'Car %d' % i, carwash)) # this is the code that auto-increments the name of the car for the first 4\n",
    "\n",
    "    # Create more cars while the simulation is running\n",
    "    while True: # while the simulation is running\n",
    "        yield env.timeout(random.randint(t_inter - 2, t_inter + 2))\n",
    "        i += 1 # this is the code that auto-increments the name of the car for the rest of hte cars generated for the simulation as it runs\n",
    "        env.process(car(env, 'Car %d' % i, carwash))"
   ]
  },
  {
   "cell_type": "code",
   "execution_count": 10,
   "metadata": {},
   "outputs": [
    {
     "name": "stdout",
     "output_type": "stream",
     "text": [
      "Carwash\n",
      "Check out http://youtu.be/fXXmeP9TvBg while simulating ... ;-)\n"
     ]
    },
    {
     "data": {
      "text/plain": [
       "<Process(setup) object at 0x2374337e700>"
      ]
     },
     "execution_count": 10,
     "metadata": {},
     "output_type": "execute_result"
    }
   ],
   "source": [
    "# Setup and start the simulation\n",
    "print('Carwash')\n",
    "print('Check out http://youtu.be/fXXmeP9TvBg while simulating ... ;-)')\n",
    "random.seed(RANDOM_SEED)  # This helps reproducing the results, initializing an RNG\n",
    "\n",
    "# Create an environment and start the setup process\n",
    "env = simpy.Environment()\n",
    "env.process(setup(env, NUM_MACHINES, WASHTIME, T_INTER))"
   ]
  },
  {
   "cell_type": "code",
   "execution_count": 11,
   "metadata": {},
   "outputs": [
    {
     "name": "stdout",
     "output_type": "stream",
     "text": [
      "Car 0 arrives at the carwash at 0.00.\n",
      "Car 1 arrives at the carwash at 0.00.\n",
      "Car 2 arrives at the carwash at 0.00.\n",
      "Car 3 arrives at the carwash at 0.00.\n",
      "Car 0 enters the carwash at 0.00.\n",
      "Car 1 enters the carwash at 0.00.\n",
      "Car 4 arrives at the carwash at 5.00.\n",
      "Carwash removed 97% of Car 0's dirt.\n",
      "Carwash removed 67% of Car 1's dirt.\n",
      "Car 0 leaves the carwash at 5.00.\n",
      "Car 1 leaves the carwash at 5.00.\n",
      "Car 2 enters the carwash at 5.00.\n",
      "Car 3 enters the carwash at 5.00.\n",
      "Car 5 arrives at the carwash at 10.00.\n",
      "Carwash removed 64% of Car 2's dirt.\n",
      "Carwash removed 58% of Car 3's dirt.\n",
      "Car 2 leaves the carwash at 10.00.\n",
      "Car 3 leaves the carwash at 10.00.\n",
      "Car 4 enters the carwash at 10.00.\n",
      "Car 5 enters the carwash at 10.00.\n",
      "Carwash removed 97% of Car 4's dirt.\n",
      "Carwash removed 56% of Car 5's dirt.\n",
      "Car 4 leaves the carwash at 15.00.\n",
      "Car 5 leaves the carwash at 15.00.\n",
      "Car 6 arrives at the carwash at 16.00.\n",
      "Car 6 enters the carwash at 16.00.\n"
     ]
    }
   ],
   "source": [
    "env.run(until=SIM_TIME)"
   ]
  },
  {
   "cell_type": "code",
   "execution_count": null,
   "metadata": {},
   "outputs": [],
   "source": []
  }
 ],
 "metadata": {
  "kernelspec": {
   "display_name": "Python 3",
   "language": "python",
   "name": "python3"
  },
  "language_info": {
   "codemirror_mode": {
    "name": "ipython",
    "version": 3
   },
   "file_extension": ".py",
   "mimetype": "text/x-python",
   "name": "python",
   "nbconvert_exporter": "python",
   "pygments_lexer": "ipython3",
   "version": "3.8.5"
  }
 },
 "nbformat": 4,
 "nbformat_minor": 4
}
